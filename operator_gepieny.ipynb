{
  "nbformat": 4,
  "nbformat_minor": 0,
  "metadata": {
    "colab": {
      "provenance": [],
      "authorship_tag": "ABX9TyMtFFvcpNQ0ztIqSVOlaHZo",
      "include_colab_link": true
    },
    "kernelspec": {
      "name": "python3",
      "display_name": "Python 3"
    },
    "language_info": {
      "name": "python"
    }
  },
  "cells": [
    {
      "cell_type": "markdown",
      "metadata": {
        "id": "view-in-github",
        "colab_type": "text"
      },
      "source": [
        "<a href=\"https://colab.research.google.com/github/lakatosgabor/operator_gepigeny/blob/main/operator_gepieny.ipynb\" target=\"_parent\"><img src=\"https://colab.research.google.com/assets/colab-badge.svg\" alt=\"Open In Colab\"/></a>"
      ]
    },
    {
      "cell_type": "code",
      "execution_count": null,
      "metadata": {
        "colab": {
          "base_uri": "https://localhost:8080/"
        },
        "id": "GUM5hSt-Mcmk",
        "outputId": "61f8a66f-9291-4862-8296-efcf7245eaeb"
      },
      "outputs": [
        {
          "output_type": "stream",
          "name": "stdout",
          "text": [
            "Gép 1 : Operátor 1 : 0.1 \n",
            "Gép 2 : Operátor 1 : 0.1 \n",
            "Gép 3 : Operátor 1 : 0.1 \n",
            "Gép 4 : Operátor 1 : 0.1 \n",
            "Gép 5 : Operátor 1 : 0.6 \n",
            "Gép 6 : Operátor 2 : 1 \n",
            "\n",
            "Operátorokhoz tartozó lefoglalt kapacitások:\n",
            "Operátor 1 : [0.1, 0.1, 0.1, 0.1, 0.6] Összesen: 1.0\n",
            "Operátor 2 : [0, 0, 0, 0, 0, 1] Összesen: 1\n",
            "Operátor 3 : [0, 0, 0, 0, 0] Összesen: 0\n",
            "Operátor 4 : [0, 0, 0, 0, 0] Összesen: 0\n",
            "Operátor 5 : [0, 0, 0, 0, 0] Összesen: 0\n",
            "Operátor 6 : [0, 0, 0, 0, 0] Összesen: 0\n"
          ]
        }
      ],
      "source": [
        "def allocate_operators(gepek, operatorok):\n",
        "    # Gépek és operátorok száma\n",
        "    m = len(gepek)\n",
        "    n = len(operatorok)\n",
        "\n",
        "    # Gépek operátorigénye\n",
        "    gepek_igeny = [gep[\"igeny\"] for gep in gepek]\n",
        "\n",
        "    # Operátorok rendelkezésre álló erőforrása és a már lefoglalt kapacitások listája\n",
        "    operator_kapacitas = [1] * n\n",
        "    operatorok_foglalt_kapacitas = [[] for _ in range(n)]\n",
        "\n",
        "    # Gépek és operátorok közötti párosítás\n",
        "    parositas = [[0] * n for _ in range(m)]\n",
        "\n",
        "    for j in range(n):\n",
        "        i = 0\n",
        "        while round(operator_kapacitas[j],2) > 0 and i < m:\n",
        "            if round(operator_kapacitas[j],2) >= gepek_igeny[i]:\n",
        "                if sum(parositas[i]) + gepek_igeny[i] <= 1:\n",
        "                    parositas[i][j] += gepek_igeny[i]\n",
        "                    operator_kapacitas[j] -= gepek_igeny[i]\n",
        "                    operatorok_foglalt_kapacitas[j].append(round(gepek_igeny[i],2))\n",
        "                    gepek_igeny[i] = 0\n",
        "            else:\n",
        "                if sum(parositas[i]) + operator_kapacitas[j] <= 1:\n",
        "                    parositas[i][j] += operator_kapacitas[j]\n",
        "                    operatorok_foglalt_kapacitas[j].append(round(operator_kapacitas[j], 2))\n",
        "                    gepek_igeny[i] -= operator_kapacitas[j]\n",
        "                    operator_kapacitas[j] = 0\n",
        "            i += 1\n",
        "\n",
        "    # Párosítás kiírása\n",
        "    for i in range(m):\n",
        "        print(\"Gép\", i+1, \":\", end=\" \")\n",
        "        for j in range(n):\n",
        "            if parositas[i][j] > 0:\n",
        "                print(\"Operátor\", j+1, \":\", parositas[i][j], end=\" \")\n",
        "        print()\n",
        "\n",
        "    # Operátorokhoz tartozó lefoglalt kapacitások kiírása\n",
        "    print(\"\\nOperátorokhoz tartozó lefoglalt kapacitások:\")\n",
        "    for j in range(n):\n",
        "        total = sum(operatorok_foglalt_kapacitas[j])\n",
        "        print(\"Operátor\", j+1, \":\", operatorok_foglalt_kapacitas[j], \"Összesen:\", total)\n",
        "\n",
        "# Példa bemenet\n",
        "gepek = [{\"igeny\": 0.1}, {\"igeny\": 0.1}, {\"igeny\": 0.1}, {\"igeny\": 0.1}, {\"igeny\": 0.6}, {\"igeny\": 1}]\n",
        "operatorok = [1, 1, 1, 1, 1, 1]\n",
        "\n",
        "allocate_operators(gepek, operatorok)\n"
      ]
    }
  ]
}